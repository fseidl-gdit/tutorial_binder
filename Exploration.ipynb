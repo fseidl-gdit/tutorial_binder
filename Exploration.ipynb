{
  "nbformat": 4,
  "nbformat_minor": 0,
  "metadata": {
    "colab": {
      "name": "Exploration.ipynb",
      "provenance": [],
      "collapsed_sections": [],
      "include_colab_link": true
    },
    "kernelspec": {
      "name": "python3",
      "display_name": "Python 3"
    },
    "language_info": {
      "name": "python"
    }
  },
  "cells": [
    {
      "cell_type": "markdown",
      "metadata": {
        "id": "view-in-github",
        "colab_type": "text"
      },
      "source": [
        "<a href=\"https://colab.research.google.com/github/fseidl-gdit/tutorial_binder/blob/main/Exploration.ipynb\" target=\"_parent\"><img src=\"https://colab.research.google.com/assets/colab-badge.svg\" alt=\"Open In Colab\"/></a>"
      ]
    },
    {
      "cell_type": "code",
      "metadata": {
        "id": "tnBLlXnDV7uX",
        "colab": {
          "base_uri": "https://localhost:8080/"
        },
        "outputId": "1ecd8c26-7a09-43e2-8617-00c6a8e113c7"
      },
      "source": [
        "from google.colab import auth\n",
        "import pandas_gbq\n",
        "import pandas as pd\n",
        "import numpy\n",
        "import seaborn\n",
        "from google.cloud import bigquery\n",
        "%load_ext rpy2.ipython\n",
        "\n",
        "bq_project='isb-cgc-etl'\n",
        "auth.authenticate_user()\n",
        "client = bigquery.Client(project=bq_project)\n",
        "print('Authenticated')"
      ],
      "execution_count": null,
      "outputs": [
        {
          "output_type": "stream",
          "name": "stdout",
          "text": [
            "Authenticated\n"
          ]
        }
      ]
    },
    {
      "cell_type": "code",
      "metadata": {
        "id": "eeo5cZ2GbKmK"
      },
      "source": [
        "%%R\n",
        "install.packages('bigrquery')\n",
        "library(bigrquery)"
      ],
      "execution_count": null,
      "outputs": []
    },
    {
      "cell_type": "markdown",
      "metadata": {
        "id": "a0LbthkLTX6_"
      },
      "source": [
        "# Clinical and cohort queries\n",
        "How old are the patients for each case in a given project?"
      ]
    },
    {
      "cell_type": "code",
      "metadata": {
        "colab": {
          "base_uri": "https://localhost:8080/"
        },
        "id": "q1PHJNxYbAS9",
        "outputId": "8607c1ca-7ccb-4a14-dbc3-f69de81c8c67"
      },
      "source": [
        "%%R\n",
        "project <- \"isb-cgc-etl\"\n",
        "\n",
        "sql <- \"select\n",
        "  submitter_id case_barcode,\n",
        "  demo__age_at_index age,\n",
        "  demo__vital_status vital\n",
        "from `isb-cgc-bq.TCGA.clinical_gdc_current`\n",
        "where proj__project_id = 'TCGA-BRCA'\n",
        "\"\n",
        "query <- bq_project_query(project, query=sql)\n",
        "df <- as.data.frame(bq_table_download(query))\n",
        "head(df)"
      ],
      "execution_count": null,
      "outputs": [
        {
          "output_type": "stream",
          "name": "stderr",
          "text": [
            "R[write to console]: Complete\n",
            "\n",
            "R[write to console]: Billed: 10.49 MB\n",
            "\n",
            "R[write to console]: Downloading first chunk of data.\n",
            "\n",
            "R[write to console]: First chunk includes all requested rows.\n",
            "\n"
          ]
        },
        {
          "output_type": "stream",
          "name": "stdout",
          "text": [
            "  case_barcode age vital\n",
            "1 TCGA-A8-A07E  81 Alive\n",
            "2 TCGA-A8-A099  76 Alive\n",
            "3 TCGA-A8-A09A  40 Alive\n",
            "4 TCGA-A8-A09C  69 Alive\n",
            "5 TCGA-B6-A0I8  46  Dead\n",
            "6 TCGA-B6-A0RE  61 Alive\n"
          ]
        }
      ]
    },
    {
      "cell_type": "code",
      "metadata": {
        "colab": {
          "base_uri": "https://localhost:8080/",
          "height": 497
        },
        "id": "3MIQoL5cTGck",
        "outputId": "31aa1d76-1fef-4ff4-df27-3a1286ade32f"
      },
      "source": [
        "%%R\n",
        "hist(df[,2], breaks=length(unique(df[,2]))/2, main='age at index', xlab='age (years)')"
      ],
      "execution_count": null,
      "outputs": [
        {
          "output_type": "display_data",
          "data": {
            "image/png": "[encoded data removed]"
          },
          "metadata": {}
        }
      ]
    },
    {
      "cell_type": "code",
      "metadata": {
        "colab": {
          "base_uri": "https://localhost:8080/",
          "height": 497
        },
        "id": "6ZtXj9jRlQx9",
        "outputId": "fdaa5d61-dc8a-4bb6-a633-6e1e6873ee0d"
      },
      "source": [
        "%%R\n",
        "hist(df[df[,3] == 'Alive',2], breaks=seq(0,90,2), xlim=c(25,90), col='steelblue1', main='', xlab='age (years)')\n",
        "hist(df[df[,3] == 'Dead',2], breaks=seq(0,90,2), add=1, col='orange')\n",
        "legend('topright', bty='n', legend=c('Alive', 'Dead'), fill=c('steelblue1', 'orange'))"
      ],
      "execution_count": null,
      "outputs": [
        {
          "output_type": "display_data",
          "data": {
            "image/png": "[encoded data removed]"
          },
          "metadata": {}
        }
      ]
    },
    {
      "cell_type": "markdown",
      "metadata": {
        "id": "fTnbQod4W2K0"
      },
      "source": [
        "# Gene expressionn\n",
        "What is the mean RNAseq expression (fpkm-uq) of a specific gene in normal and tumor?\n",
        "\n",
        "Table: *isb-cgc-bq.TCGA.RNAseq_hg38_gdc_current*"
      ]
    },
    {
      "cell_type": "code",
      "metadata": {
        "id": "QZJlYM0eZJzj",
        "colab": {
          "base_uri": "https://localhost:8080/"
        },
        "outputId": "9e9e7e67-5536-4814-9bd2-9aaa0fda9037"
      },
      "source": [
        "%%R\n",
        "sql <- \"select\n",
        "  case_barcode,\n",
        "  aliquot_barcode,\n",
        "  sample_type_name,\n",
        "  avg(HTSeq__FPKM_UQ) avg_fpkm\n",
        "from `isb-cgc-bq.TCGA.RNAseq_hg38_gdc_current`\n",
        "where project_short_name = 'TCGA-BRCA'\n",
        "and gene_name = 'FOXD4'\n",
        "group by case_barcode, aliquot_barcode, sample_type_name\"\n",
        "\n",
        "query <- bq_project_query(project, query=sql)\n",
        "df <- bq_table_download(query)\n",
        "head(df)"
      ],
      "execution_count": null,
      "outputs": [
        {
          "output_type": "stream",
          "name": "stderr",
          "text": [
            "R[write to console]: Complete\n",
            "\n",
            "R[write to console]: Billed: 0 B\n",
            "\n",
            "R[write to console]: Downloading first chunk of data.\n",
            "\n",
            "R[write to console]: First chunk includes all requested rows.\n",
            "\n"
          ]
        },
        {
          "output_type": "stream",
          "name": "stdout",
          "text": [
            "# A tibble: 6 × 4\n",
            "  case_barcode aliquot_barcode              sample_type_name avg_fpkm\n",
            "  <chr>        <chr>                        <chr>               <dbl>\n",
            "1 TCGA-AN-A0AS TCGA-AN-A0AS-01A-11R-A00Z-07 Primary Tumor       2440.\n",
            "2 TCGA-A2-A3XX TCGA-A2-A3XX-01A-21R-A239-07 Primary Tumor       3675.\n",
            "3 TCGA-D8-A1JE TCGA-D8-A1JE-01A-11R-A13Q-07 Primary Tumor       5365.\n",
            "4 TCGA-BH-A1FE TCGA-BH-A1FE-01A-11R-A13Q-07 Primary Tumor      10674.\n",
            "5 TCGA-AO-A1KP TCGA-AO-A1KP-01A-11R-A13Q-07 Primary Tumor      11747.\n",
            "6 TCGA-AN-A0AT TCGA-AN-A0AT-01A-11R-A034-07 Primary Tumor       4712.\n"
          ]
        }
      ]
    },
    {
      "cell_type": "code",
      "metadata": {
        "colab": {
          "base_uri": "https://localhost:8080/",
          "height": 497
        },
        "id": "p1dHUKGrQmbP",
        "outputId": "3a094d7e-2937-4c1b-9b00-80ed08929c3b"
      },
      "source": [
        "%%R\n",
        "\n",
        "tumor <- unlist(df[df[,3] == 'Primary Tumor',4])\n",
        "normal <- unlist(df[df[,3] == 'Solid Tissue Normal',4])\n",
        "metastatic <- unlist(df[df[,3] == 'Metastatic',4])\n",
        "\n",
        "boxplot(list(tumor, normal, metastatic), names=c('tumor', 'normal', 'metastatic'))"
      ],
      "execution_count": null,
      "outputs": [
        {
          "output_type": "display_data",
          "data": {
            "image/png": "[encoded data removed]"
          },
          "metadata": {}
        }
      ]
    },
    {
      "cell_type": "markdown",
      "metadata": {
        "id": "Pg7i7QJCQnNC"
      },
      "source": [
        "We can also generate summary statistics directly in BigQuery."
      ]
    },
    {
      "cell_type": "code",
      "metadata": {
        "colab": {
          "base_uri": "https://localhost:8080/"
        },
        "id": "1rJQkmZoPDNK",
        "outputId": "6b0b239f-a211-4f3f-8dc3-68f4e98d3adc"
      },
      "source": [
        "%%R\n",
        "sql <- \"select\n",
        "  sample_type_name,\n",
        "  avg(HTSeq__FPKM_UQ) avg_fpkm,\n",
        "  stddev(HTSeq__FPKM_UQ) sdv_fpkm,\n",
        "  max(HTSeq__FPKM_UQ) max_fpkm,\n",
        "  min(HTSeq__FPKM_UQ) min_fpkm\n",
        "from `isb-cgc-bq.TCGA.RNAseq_hg38_gdc_current`\n",
        "where project_short_name = 'TCGA-BRCA'\n",
        "and gene_name = 'FOXD4'\n",
        "group by sample_type_name\"\n",
        "\n",
        "query <- bq_project_query(project, query=sql)\n",
        "df <- bq_table_download(query)\n",
        "head(df)"
      ],
      "execution_count": null,
      "outputs": [
        {
          "output_type": "stream",
          "name": "stderr",
          "text": [
            "R[write to console]: Complete\n",
            "\n",
            "R[write to console]: Billed: 0 B\n",
            "\n",
            "R[write to console]: Downloading first chunk of data.\n",
            "\n",
            "R[write to console]: First chunk includes all requested rows.\n",
            "\n"
          ]
        },
        {
          "output_type": "stream",
          "name": "stdout",
          "text": [
            "# A tibble: 3 × 5\n",
            "  sample_type_name    avg_fpkm sdv_fpkm max_fpkm min_fpkm\n",
            "  <chr>                  <dbl>    <dbl>    <dbl>    <dbl>\n",
            "1 Metastatic             6539.    6996.   22097.    1752.\n",
            "2 Primary Tumor          7114.    7077.   54396.       0 \n",
            "3 Solid Tissue Normal    2266.    2481.   22164.       0 \n"
          ]
        }
      ]
    },
    {
      "cell_type": "markdown",
      "metadata": {
        "id": "NOH_2X-SZfkt"
      },
      "source": [
        "#Genome annotation\n",
        "We can retrieve Gencode annotation data for specific genes from BigQuery tables\n",
        "\n",
        "Table: *isb-cgc-bq.GENCODE_versioned.annotation_gtf_hg38_v22*"
      ]
    },
    {
      "cell_type": "code",
      "metadata": {
        "id": "Vdr592pUZqgv",
        "colab": {
          "base_uri": "https://localhost:8080/"
        },
        "outputId": "92daad46-4963-4bed-a89c-13fddc2b0e5d"
      },
      "source": [
        "%%R\n",
        "sql1 <- \"select * from `isb-cgc-bq.GENCODE_versioned.annotation_gtf_hg38_v22` where gene_name = 'FOXD4' and feature = 'gene'\"\n",
        "\n",
        "query1 <- bq_project_query(project, query=sql1)\n",
        "df1 <- bq_table_download(query1)\n",
        "head(df1)"
      ],
      "execution_count": null,
      "outputs": [
        {
          "output_type": "stream",
          "name": "stderr",
          "text": [
            "R[write to console]: Complete\n",
            "\n",
            "R[write to console]: Billed: 0 B\n",
            "\n",
            "R[write to console]: Downloading first chunk of data.\n",
            "\n",
            "R[write to console]: First chunk includes all requested rows.\n",
            "\n"
          ]
        },
        {
          "output_type": "stream",
          "name": "stdout",
          "text": [
            "# A tibble: 1 × 32\n",
            "  seq_name source feature  start    end frame strand gene_name gene_id gene_id_v\n",
            "  <chr>    <chr>  <chr>    <int>  <int> <chr> <chr>  <chr>     <chr>   <chr>    \n",
            "1 chr9     HAVANA gene    116231 118204 .     -      FOXD4     ENSG00… ENSG0000…\n",
            "# … with 22 more variables: gene_type <chr>, gene_status <chr>,\n",
            "#   transcript_name <chr>, transcript_id <chr>, transcript_id_v <chr>,\n",
            "#   transcript_status <chr>, transcript_type <chr>,\n",
            "#   transcript_support_level <int>, exon_number <int>, exon_id <chr>,\n",
            "#   exon_id_v <chr>, ccds_id <chr>, ccds_id_v <chr>, protein_id <chr>,\n",
            "#   protein_id_v <chr>, havana_gene <chr>, havana_gene_v <chr>,\n",
            "#   havana_transcript <chr>, havana_transcript_v <chr>, level <int>, …\n"
          ]
        }
      ]
    },
    {
      "cell_type": "markdown",
      "metadata": {
        "id": "pYb_2RnMavlS"
      },
      "source": [
        "# Mutation data\n",
        "Given the gene annotation data above we can query for mutations within a gene.\n",
        "\n",
        "Table: *isb-cgc-bq.TCGA.somatic_mutation_hg38_gdc_current*"
      ]
    },
    {
      "cell_type": "code",
      "metadata": {
        "colab": {
          "base_uri": "https://localhost:8080/"
        },
        "id": "yRuuZrOVgSRQ",
        "outputId": "aed04d44-72cf-4764-c6e5-670bda2060d0"
      },
      "source": [
        "%%R\n",
        "sql2 <- \"select case_barcode, \n",
        "    Chromosome, \n",
        "    Start_Position, \n",
        "    End_Position, \n",
        "    Reference_Allele, \n",
        "    Tumor_Seq_Allele1, \n",
        "    Tumor_Seq_Allele2\n",
        "from `isb-cgc-bq.TCGA.somatic_mutation_hg38_gdc_current`\n",
        "where Chromosome = 'chr9'\n",
        "    and Start_Position > 116231\n",
        "    and End_Position < 118204\"\n",
        "\n",
        "query2 <- bq_project_query(project, query=sql2)\n",
        "df2 <- bq_table_download(query2)\n",
        "head(df2)"
      ],
      "execution_count": null,
      "outputs": [
        {
          "output_type": "stream",
          "text": [
            "R[write to console]: Complete\n",
            "\n",
            "R[write to console]: Billed: 0 B\n",
            "\n",
            "R[write to console]: Downloading first chunk of data.\n",
            "\n",
            "R[write to console]: First chunk includes all requested rows.\n",
            "\n"
          ],
          "name": "stderr"
        },
        {
          "output_type": "stream",
          "text": [
            "# A tibble: 6 × 7\n",
            "  case_barcode Chromosome Start_Position End_Position Reference_Allele\n",
            "  <chr>        <chr>               <int>        <int> <chr>           \n",
            "1 TCGA-EO-A3AV chr9               116673       116673 T               \n",
            "2 TCGA-IG-A6QS chr9               116510       116510 T               \n",
            "3 TCGA-WR-A838 chr9               116510       116510 T               \n",
            "4 TCGA-AP-A1DV chr9               118154       118154 C               \n",
            "5 TCGA-YC-A89H chr9               118147       118147 G               \n",
            "6 TCGA-AP-A1DV chr9               117727       117727 G               \n",
            "# … with 2 more variables: Tumor_Seq_Allele1 <chr>, Tumor_Seq_Allele2 <chr>\n"
          ],
          "name": "stdout"
        }
      ]
    },
    {
      "cell_type": "markdown",
      "metadata": {
        "id": "mg0QbDV3ZpjQ"
      },
      "source": [
        "What about in the 500 kB upstream and downstream of the gene?"
      ]
    },
    {
      "cell_type": "code",
      "metadata": {
        "id": "LqeNo_KjZpsV",
        "colab": {
          "base_uri": "https://localhost:8080/"
        },
        "outputId": "6d39f675-574a-4858-a158-a1f0351a802c"
      },
      "source": [
        "%%R\n",
        "sql <- \"select case_barcode, \n",
        "    Chromosome, \n",
        "    Start_Position, \n",
        "    End_Position, \n",
        "    Reference_Allele, \n",
        "    Tumor_Seq_Allele1, \n",
        "    Tumor_Seq_Allele2\n",
        "from `isb-cgc-bq.TCGA.somatic_mutation_hg38_gdc_current`\n",
        "where \n",
        "    Chromosome = 'chr9'\n",
        "    and (\n",
        "        (Start_Position < 116231 and Start_Position > 66231)\n",
        "        or (End_Position > 118204 and End_Position < 168204)\n",
        "        )\"\n",
        "\n",
        "query <- bq_project_query(project, query=sql)\n",
        "df <- bq_table_download(query)\n",
        "head(df)"
      ],
      "execution_count": null,
      "outputs": [
        {
          "output_type": "stream",
          "text": [
            "R[write to console]: Complete\n",
            "\n",
            "R[write to console]: Billed: 164.63 MB\n",
            "\n",
            "R[write to console]: Downloading first chunk of data.\n",
            "\n",
            "R[write to console]: First chunk includes all requested rows.\n",
            "\n"
          ],
          "name": "stderr"
        },
        {
          "output_type": "stream",
          "text": [
            "# A tibble: 6 × 7\n",
            "  case_barcode Chromosome Start_Position End_Position Reference_Allele\n",
            "  <chr>        <chr>               <int>        <int> <chr>           \n",
            "1 TCGA-EY-A215 chr9               166052       166052 A               \n",
            "2 TCGA-XF-A9ST chr9               123241       123241 G               \n",
            "3 TCGA-SX-A7SP chr9               118210       118210 A               \n",
            "4 TCGA-BH-A18U chr9               156515       156515 C               \n",
            "5 TCGA-14-0866 chr9               121423       121423 T               \n",
            "6 TCGA-BS-A0VI chr9               166071       166071 G               \n",
            "# … with 2 more variables: Tumor_Seq_Allele1 <chr>, Tumor_Seq_Allele2 <chr>\n"
          ],
          "name": "stdout"
        }
      ]
    },
    {
      "cell_type": "markdown",
      "metadata": {
        "id": "gT38-rB5Z1QC"
      },
      "source": [
        "# Table joins\n",
        "How do we join clinical and mutation data?\n",
        "\n",
        "Tables: \n",
        "*   *isb-cgc-bq.TCGA.clinical_gdc_current*\n",
        "*   *isb-cgc-bq.TCGA.somatic_mutation_hg38_gdc_current*\n",
        "\n",
        "\n"
      ]
    },
    {
      "cell_type": "code",
      "metadata": {
        "id": "Mavl_7cjZ0XB"
      },
      "source": [
        "%%R\n",
        "sql <- \"select \n",
        "    mut.Chromosome, \n",
        "    mut.Start_Position, \n",
        "    mut.End_Position, \n",
        "    mut.Reference_Allele, \n",
        "    mut.Tumor_Seq_Allele1, \n",
        "    mut.Tumor_Seq_Allele2, \n",
        "    clin.demo__vital_status \n",
        "from `isb-cgc-bq.TCGA.clinical_gdc_current` clin\n",
        "join `isb-cgc-bq.TCGA.somatic_mutation_hg38_gdc_current` mut \n",
        "    on clin.submitter_id = mut.case_barcode\n",
        "where mut.project_short_name = 'TCGA-BRCA'\"\n",
        "\n",
        "query <- bq_project_query(project, query=sql)\n",
        "df <- bq_table_download(query)\n",
        "head(df)"
      ],
      "execution_count": null,
      "outputs": []
    }
  ]
}