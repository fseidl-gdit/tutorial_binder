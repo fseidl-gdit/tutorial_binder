{
  "nbformat": 4,
  "nbformat_minor": 0,
  "metadata": {
    "colab": {
      "name": "Exploration.ipynb",
      "provenance": [],
      "collapsed_sections": [],
      "include_colab_link": true
    },
    "kernelspec": {
      "name": "python3",
      "display_name": "Python 3"
    },
    "language_info": {
      "name": "python"
    }
  },
  "cells": [
    {
      "cell_type": "markdown",
      "metadata": {
        "id": "view-in-github",
        "colab_type": "text"
      },
      "source": [
        "<a href=\"https://colab.research.google.com/github/fseidl-gdit/tutorial_binder/blob/main/Exploration.ipynb\" target=\"_parent\"><img src=\"https://colab.research.google.com/assets/colab-badge.svg\" alt=\"Open In Colab\"/></a>"
      ]
    },
    {
      "cell_type": "code",
      "metadata": {
        "id": "tnBLlXnDV7uX",
        "colab": {
          "base_uri": "https://localhost:8080/"
        },
        "outputId": "0a75fd74-b09f-41f1-ea74-ef3a11458d1b"
      },
      "source": [
        "from google.colab import auth\n",
        "import pandas_gbq\n",
        "import pandas as pd\n",
        "import numpy\n",
        "import seaborn\n",
        "from google.cloud import bigquery\n",
        "from google.oauth2 import service_account\n",
        "%load_ext rpy2.ipython\n",
        "\n",
        "\n",
        "bq_project='isb-cgc-etl'\n",
        "auth.authenticate_user()\n",
        "client = bigquery.Client(project=bq_project)\n",
        "print('Authenticated')"
      ],
      "execution_count": 1,
      "outputs": [
        {
          "output_type": "stream",
          "name": "stdout",
          "text": [
            "Authenticated\n"
          ]
        }
      ]
    },
    {
      "cell_type": "code",
      "metadata": {
        "id": "ktAgG6Wxhjmf"
      },
      "source": [
        "#credentials = service_account.Credentials.from_service_account_file(\n",
        "#    key_path, scopes=[\"https://www.googleapis.com/auth/cloud-platform\"])\n",
        "#client = bigquery.Client(credentials=credentials, project=credentials.project_id,)"
      ],
      "execution_count": null,
      "outputs": []
    },
    {
      "cell_type": "code",
      "metadata": {
        "id": "eeo5cZ2GbKmK"
      },
      "source": [
        "%%R\n",
        "install.packages('bigrquery')\n",
        "library(bigrquery)\n",
        "library(repr)"
      ],
      "execution_count": null,
      "outputs": []
    },
    {
      "cell_type": "markdown",
      "metadata": {
        "id": "a0LbthkLTX6_"
      },
      "source": [
        "# Clinical and cohort queries\n",
        "How old are the patients for each case in a given project?"
      ]
    },
    {
      "cell_type": "code",
      "metadata": {
        "colab": {
          "base_uri": "https://localhost:8080/"
        },
        "id": "q1PHJNxYbAS9",
        "outputId": "ff42a017-6c9d-4612-e641-435194ea5e64"
      },
      "source": [
        "%%R\n",
        "project <- \"isb-cgc-etl\"\n",
        "\n",
        "case_sql <- \"select\n",
        "  submitter_id case_barcode,\n",
        "  demo__age_at_index age,\n",
        "  demo__vital_status vital\n",
        "from `isb-cgc-bq.TCGA.clinical_gdc_current`\n",
        "where proj__project_id = 'TCGA-BRCA'\n",
        "\"\n",
        "case_query <- bq_project_query(project, query=case_sql)\n",
        "case_df <- as.data.frame(bq_table_download(case_query))\n",
        "head(case_df)"
      ],
      "execution_count": 3,
      "outputs": [
        {
          "output_type": "stream",
          "name": "stderr",
          "text": [
            "R[write to console]: Complete\n",
            "\n",
            "R[write to console]: Billed: 0 B\n",
            "\n",
            "R[write to console]: Downloading first chunk of data.\n",
            "\n",
            "R[write to console]: First chunk includes all requested rows.\n",
            "\n"
          ]
        },
        {
          "output_type": "stream",
          "name": "stdout",
          "text": [
            "  case_barcode age vital\n",
            "1 TCGA-A8-A07E  81 Alive\n",
            "2 TCGA-A8-A099  76 Alive\n",
            "3 TCGA-A8-A09A  40 Alive\n",
            "4 TCGA-A8-A09C  69 Alive\n",
            "5 TCGA-B6-A0I8  46  Dead\n",
            "6 TCGA-B6-A0RE  61 Alive\n"
          ]
        }
      ]
    },
    {
      "cell_type": "code",
      "metadata": {
        "colab": {
          "base_uri": "https://localhost:8080/",
          "height": 497
        },
        "id": "3MIQoL5cTGck",
        "outputId": "6ccb19a4-cf6b-4853-95f8-89856d222ea3"
      },
      "source": [
        "%%R\n",
        "case_num <- length(unique(case_df[,2]))\n",
        "hist(case_df[,2], breaks=case_num/2, main='age at index', xlab='age (years)')"
      ],
      "execution_count": 4,
      "outputs": [
        {
          "output_type": "display_data",
          "data": {
            "image/png": "[encoded data removed]"
          },
          "metadata": {}
        }
      ]
    },
    {
      "cell_type": "code",
      "metadata": {
        "colab": {
          "base_uri": "https://localhost:8080/",
          "height": 497
        },
        "id": "6ZtXj9jRlQx9",
        "outputId": "4888bb7f-dea1-4a1c-ed03-1773b316a377"
      },
      "source": [
        "%%R\n",
        "hist(case_df[case_df[,3] == 'Alive',2], breaks=case_num/2, xlim=c(25,90), col='steelblue1', main='', xlab='age (years)')\n",
        "hist(case_df[case_df[,3] == 'Dead',2], breaks=case_num/2, add=1, col='orange')\n",
        "legend('topright', bty='n', legend=c('Alive', 'Dead'), fill=c('steelblue1', 'orange'))"
      ],
      "execution_count": 5,
      "outputs": [
        {
          "output_type": "display_data",
          "data": {
            "image/png": "[encoded data removed]"
          },
          "metadata": {}
        }
      ]
    },
    {
      "cell_type": "markdown",
      "metadata": {
        "id": "fTnbQod4W2K0"
      },
      "source": [
        "# Gene expressionn\n",
        "What is the mean RNAseq expression (fpkm-uq) of a specific gene in normal and tumor?\n",
        "\n",
        "Table: *isb-cgc-bq.TCGA.RNAseq_hg38_gdc_current*"
      ]
    },
    {
      "cell_type": "code",
      "metadata": {
        "id": "QZJlYM0eZJzj",
        "colab": {
          "base_uri": "https://localhost:8080/"
        },
        "outputId": "00426368-c942-4abb-f0c6-bbb91771a76c"
      },
      "source": [
        "%%R\n",
        "expr_sql <- \"select\n",
        "  case_barcode,\n",
        "  aliquot_barcode,\n",
        "  sample_type_name,\n",
        "  avg(HTSeq__FPKM_UQ) avg_fpkm\n",
        "from `isb-cgc-bq.TCGA.RNAseq_hg38_gdc_current`\n",
        "where project_short_name = 'TCGA-BRCA'\n",
        "and gene_name = 'CCNB1'\n",
        "group by case_barcode, aliquot_barcode, sample_type_name\"\n",
        "\n",
        "expr_query <- bq_project_query(project, query=expr_sql)\n",
        "expr_df <- bq_table_download(expr_query)\n",
        "head(expr_df)"
      ],
      "execution_count": 53,
      "outputs": [
        {
          "output_type": "stream",
          "name": "stderr",
          "text": [
            "R[write to console]: Complete\n",
            "\n",
            "R[write to console]: Billed: 59.85 GB\n",
            "\n",
            "R[write to console]: Downloading first chunk of data.\n",
            "\n",
            "R[write to console]: First chunk includes all requested rows.\n",
            "\n"
          ]
        },
        {
          "output_type": "stream",
          "name": "stdout",
          "text": [
            "# A tibble: 6 × 4\n",
            "  case_barcode aliquot_barcode              sample_type_name avg_fpkm\n",
            "  <chr>        <chr>                        <chr>               <dbl>\n",
            "1 TCGA-AO-A0JE TCGA-AO-A0JE-01A-11R-A056-07 Primary Tumor     508281.\n",
            "2 TCGA-AN-A0FT TCGA-AN-A0FT-01A-11R-A034-07 Primary Tumor     136998.\n",
            "3 TCGA-C8-A3M7 TCGA-C8-A3M7-01A-12R-A21T-07 Primary Tumor     326013.\n",
            "4 TCGA-A2-A0CU TCGA-A2-A0CU-01A-12R-A034-07 Primary Tumor     476361.\n",
            "5 TCGA-A2-A0YH TCGA-A2-A0YH-01A-11R-A109-07 Primary Tumor     664528.\n",
            "6 TCGA-E2-A1AZ TCGA-E2-A1AZ-01A-11R-A12P-07 Primary Tumor    1140135.\n"
          ]
        }
      ]
    },
    {
      "cell_type": "code",
      "metadata": {
        "colab": {
          "base_uri": "https://localhost:8080/",
          "height": 497
        },
        "id": "p1dHUKGrQmbP",
        "outputId": "c28d69db-e659-4a3b-c6f6-f979a128a15f"
      },
      "source": [
        "%%R\n",
        "\n",
        "tumor <- unlist(expr_df[expr_df[,3] == 'Primary Tumor',4])\n",
        "normal <- unlist(expr_df[expr_df[,3] == 'Solid Tissue Normal',4])\n",
        "metastatic <- unlist(expr_df[expr_df[,3] == 'Metastatic',4])\n",
        "\n",
        "boxplot(list(normal, tumor, metastatic), names=c('tumor', 'normal', 'metastatic'))"
      ],
      "execution_count": 55,
      "outputs": [
        {
          "output_type": "display_data",
          "data": {
            "image/png": "[encoded data removed]"
          },
          "metadata": {}
        }
      ]
    },
    {
      "cell_type": "markdown",
      "metadata": {
        "id": "Pg7i7QJCQnNC"
      },
      "source": [
        "We can also generate summary statistics directly in BigQuery."
      ]
    },
    {
      "cell_type": "code",
      "metadata": {
        "colab": {
          "base_uri": "https://localhost:8080/"
        },
        "id": "1rJQkmZoPDNK",
        "outputId": "d985a6e9-be8f-4b30-84a5-ba074ad2a4a8"
      },
      "source": [
        "%%R\n",
        "summ_sql <- \"select\n",
        "  sample_type_name,\n",
        "  avg(HTSeq__FPKM_UQ) avg_fpkm,\n",
        "  stddev(HTSeq__FPKM_UQ) sdv_fpkm,\n",
        "  max(HTSeq__FPKM_UQ) max_fpkm,\n",
        "  min(HTSeq__FPKM_UQ) min_fpkm\n",
        "from `isb-cgc-bq.TCGA.RNAseq_hg38_gdc_current`\n",
        "where project_short_name = 'TCGA-BRCA'\n",
        "and gene_name = 'CCNB1'\n",
        "group by sample_type_name\"\n",
        "\n",
        "summ_query <- bq_project_query(project, query=summ_sql)\n",
        "summ_df <- bq_table_download(summ_query)\n",
        "head(summ_df)"
      ],
      "execution_count": 29,
      "outputs": [
        {
          "output_type": "stream",
          "name": "stderr",
          "text": [
            "R[write to console]: Complete\n",
            "\n",
            "R[write to console]: Billed: 30.33 GB\n",
            "\n",
            "R[write to console]: Downloading first chunk of data.\n",
            "\n",
            "R[write to console]: First chunk includes all requested rows.\n",
            "\n"
          ]
        },
        {
          "output_type": "stream",
          "name": "stdout",
          "text": [
            "# A tibble: 3 × 5\n",
            "  sample_type_name    avg_fpkm sdv_fpkm max_fpkm min_fpkm\n",
            "  <chr>                  <dbl>    <dbl>    <dbl>    <dbl>\n",
            "1 Metastatic           305474.  193940.  671952.  122495.\n",
            "2 Solid Tissue Normal   83936.   42956.  360053.   27282.\n",
            "3 Primary Tumor        487856.  330627. 2367487.   55187.\n"
          ]
        }
      ]
    },
    {
      "cell_type": "markdown",
      "metadata": {
        "id": "NOH_2X-SZfkt"
      },
      "source": [
        "#Genome annotation\n",
        "We can retrieve Gencode annotation data for specific genes from BigQuery tables\n",
        "\n",
        "Table: *isb-cgc-bq.GENCODE_versioned.annotation_gtf_hg38_v22*"
      ]
    },
    {
      "cell_type": "code",
      "metadata": {
        "id": "Vdr592pUZqgv",
        "colab": {
          "base_uri": "https://localhost:8080/"
        },
        "outputId": "f5887729-adf3-4bcf-dda5-87bc1b2f26d3"
      },
      "source": [
        "%%R\n",
        "annot_sql <- \"select * from `isb-cgc-bq.GENCODE_versioned.annotation_gtf_hg38_v22` where gene_name = 'CCNB1' and transcript_name = 'CCNB1-001'\"\n",
        "\n",
        "annot_query <- bq_project_query(project, query=annot_sql)\n",
        "annot_df <- bq_table_download(annot_query)\n",
        "print(annot_df)"
      ],
      "execution_count": 36,
      "outputs": [
        {
          "output_type": "stream",
          "name": "stderr",
          "text": [
            "R[write to console]: Complete\n",
            "\n",
            "R[write to console]: Billed: 947.91 MB\n",
            "\n",
            "R[write to console]: Downloading first chunk of data.\n",
            "\n",
            "R[write to console]: First chunk includes all requested rows.\n",
            "\n"
          ]
        },
        {
          "output_type": "stream",
          "name": "stdout",
          "text": [
            "# A tibble: 23 × 32\n",
            "   seq_name source feature        start      end frame strand gene_name gene_id \n",
            "   <chr>    <chr>  <chr>          <int>    <int> <chr> <chr>  <chr>     <chr>   \n",
            " 1 chr5     HAVANA CDS         69171270 69171452 .     +      CCNB1     ENSG000…\n",
            " 2 chr5     HAVANA CDS         69174877 69175113 .     +      CCNB1     ENSG000…\n",
            " 3 chr5     HAVANA start_codon 69167263 69167265 .     +      CCNB1     ENSG000…\n",
            " 4 chr5     HAVANA exon        69174877 69175113 .     +      CCNB1     ENSG000…\n",
            " 5 chr5     HAVANA UTR         69167010 69167262 .     +      CCNB1     ENSG000…\n",
            " 6 chr5     HAVANA exon        69168173 69168343 .     +      CCNB1     ENSG000…\n",
            " 7 chr5     HAVANA stop_codon  69177629 69177631 .     +      CCNB1     ENSG000…\n",
            " 8 chr5     HAVANA exon        69177239 69177349 .     +      CCNB1     ENSG000…\n",
            " 9 chr5     HAVANA exon        69167010 69167283 .     +      CCNB1     ENSG000…\n",
            "10 chr5     HAVANA exon        69171270 69171452 .     +      CCNB1     ENSG000…\n",
            "# … with 13 more rows, and 23 more variables: gene_id_v <chr>, gene_type <chr>,\n",
            "#   gene_status <chr>, transcript_name <chr>, transcript_id <chr>,\n",
            "#   transcript_id_v <chr>, transcript_status <chr>, transcript_type <chr>,\n",
            "#   transcript_support_level <int>, exon_number <int>, exon_id <chr>,\n",
            "#   exon_id_v <chr>, ccds_id <chr>, ccds_id_v <chr>, protein_id <chr>,\n",
            "#   protein_id_v <chr>, havana_gene <chr>, havana_gene_v <chr>,\n",
            "#   havana_transcript <chr>, havana_transcript_v <chr>, level <int>, …\n"
          ]
        }
      ]
    },
    {
      "cell_type": "markdown",
      "metadata": {
        "id": "pYb_2RnMavlS"
      },
      "source": [
        "# Mutation data\n",
        "Given the gene annotation data above we can query for mutations within a gene.\n",
        "\n",
        "Table: *isb-cgc-bq.TCGA.somatic_mutation_hg38_gdc_current*"
      ]
    },
    {
      "cell_type": "code",
      "metadata": {
        "colab": {
          "base_uri": "https://localhost:8080/"
        },
        "id": "yRuuZrOVgSRQ",
        "outputId": "334209ed-4a26-4fe4-bc9b-9d4f536b6874"
      },
      "source": [
        "%%R\n",
        "mut_sql <- \"select case_barcode, \n",
        "    Chromosome, \n",
        "    Start_Position, \n",
        "    End_Position, \n",
        "    Reference_Allele, \n",
        "    Tumor_Seq_Allele1, \n",
        "    Tumor_Seq_Allele2\n",
        "from `isb-cgc-bq.TCGA.somatic_mutation_hg38_gdc_current`\n",
        "where Chromosome = 'chr5'\n",
        "    and Start_Position > 69167135\n",
        "    and End_Position < 69177358\"\n",
        "\n",
        "mut_query <- bq_project_query(project, query=mut_sql)\n",
        "mut_df <- bq_table_download(mut_query)\n",
        "head(mut_df)"
      ],
      "execution_count": 37,
      "outputs": [
        {
          "output_type": "stream",
          "name": "stderr",
          "text": [
            "R[write to console]: Complete\n",
            "\n",
            "R[write to console]: Billed: 0 B\n",
            "\n",
            "R[write to console]: Downloading first chunk of data.\n",
            "\n",
            "R[write to console]: First chunk includes all requested rows.\n",
            "\n"
          ]
        },
        {
          "output_type": "stream",
          "name": "stdout",
          "text": [
            "# A tibble: 6 × 7\n",
            "  case_barcode Chromosome Start_Position End_Position Reference_Allele\n",
            "  <chr>        <chr>               <int>        <int> <chr>           \n",
            "1 TCGA-AP-A059 chr5             69175531     69175531 T               \n",
            "2 TCGA-06-1805 chr5             69175091     69175091 G               \n",
            "3 TCGA-13-0751 chr5             69175528     69175529 -               \n",
            "4 TCGA-B5-A11E chr5             69177254     69177254 C               \n",
            "5 TCGA-CM-5861 chr5             69174975     69174975 C               \n",
            "6 TCGA-HT-8012 chr5             69171447     69171447 C               \n",
            "# … with 2 more variables: Tumor_Seq_Allele1 <chr>, Tumor_Seq_Allele2 <chr>\n"
          ]
        }
      ]
    },
    {
      "cell_type": "code",
      "metadata": {
        "colab": {
          "base_uri": "https://localhost:8080/",
          "height": 497
        },
        "id": "o6gNGrLdXRyp",
        "outputId": "3fdaafb8-a42a-4a89-990a-454bfe3fa51e"
      },
      "source": [
        "%%R\n",
        "options(repr.plot.width=10, repr.plot.height=4)\n",
        "mut_count <- table(mut_df[,3])\n",
        "max_count <- max(mut_count)\n",
        "plot(NA, xlim=c(min(mut_df[,3])-1000, max(mut_df[,3])+1000), ylim=c(-0.3,max_count), \n",
        "     yaxt='n', bty='n', main='', xlab='Chr5 position', ylab='occurance count')\n",
        "jnk <- apply(annot_df[annot_df$feature == 'exon',], 1, function(row){\n",
        "    rect(row[4], -0.2, row[5], -0.1, col='green')\n",
        "})\n",
        "axis(2, at=seq(0,3,1))\n",
        "jnk <- sapply(1:length(mut_count), function(ix){\n",
        "    x <- as.numeric(names(mut_count)[ix])\n",
        "    segments(x, 0, x, mut_count[ix])\n",
        "    })"
      ],
      "execution_count": 52,
      "outputs": [
        {
          "output_type": "display_data",
          "data": {
            "image/png": "[encoded data removed]"
          },
          "metadata": {}
        }
      ]
    },
    {
      "cell_type": "markdown",
      "metadata": {
        "id": "mg0QbDV3ZpjQ"
      },
      "source": [
        "What about in the 100 kB upstream and downstream of the gene?"
      ]
    },
    {
      "cell_type": "code",
      "metadata": {
        "id": "LqeNo_KjZpsV",
        "colab": {
          "base_uri": "https://localhost:8080/"
        },
        "outputId": "975b8867-58ce-4840-c72c-4388883a84e8"
      },
      "source": [
        "%%R\n",
        "sql <- \"select case_barcode, \n",
        "    Chromosome, \n",
        "    Start_Position, \n",
        "    End_Position, \n",
        "    Reference_Allele, \n",
        "    Tumor_Seq_Allele1, \n",
        "    Tumor_Seq_Allele2\n",
        "from `isb-cgc-bq.TCGA.somatic_mutation_hg38_gdc_current`\n",
        "where \n",
        "    Chromosome = 'chr9'\n",
        "    and (\n",
        "        (Start_Position < 69067135 and Start_Position > 69167135)\n",
        "        or (End_Position > 69177358 and End_Position < 69277358)\n",
        "        )\"\n",
        "\n",
        "query <- bq_project_query(project, query=sql)\n",
        "df <- bq_table_download(query)\n",
        "head(df)"
      ],
      "execution_count": 57,
      "outputs": [
        {
          "output_type": "stream",
          "name": "stderr",
          "text": [
            "R[write to console]: Complete\n",
            "\n",
            "R[write to console]: Billed: 164.63 MB\n",
            "\n",
            "R[write to console]: Downloading first chunk of data.\n",
            "\n",
            "R[write to console]: First chunk includes all requested rows.\n",
            "\n"
          ]
        },
        {
          "output_type": "stream",
          "name": "stdout",
          "text": [
            "# A tibble: 6 × 7\n",
            "  case_barcode Chromosome Start_Position End_Position Reference_Allele\n",
            "  <chr>        <chr>               <int>        <int> <chr>           \n",
            "1 TCGA-G3-A3CG chr9             69254389     69254389 A               \n",
            "2 TCGA-AA-3672 chr9             69246577     69246577 C               \n",
            "3 TCGA-D3-A3MU chr9             69236185     69236185 G               \n",
            "4 TCGA-FX-A2QS chr9             69254215     69254216 -               \n",
            "5 TCGA-28-1751 chr9             69216447     69216447 G               \n",
            "6 TCGA-AX-A064 chr9             69237032     69237032 G               \n",
            "# … with 2 more variables: Tumor_Seq_Allele1 <chr>, Tumor_Seq_Allele2 <chr>\n"
          ]
        }
      ]
    },
    {
      "cell_type": "markdown",
      "metadata": {
        "id": "gT38-rB5Z1QC"
      },
      "source": [
        "# Table joins\n",
        "How do we join clinical and mutation data?\n",
        "\n",
        "Tables: \n",
        "*   *isb-cgc-bq.TCGA.clinical_gdc_current*\n",
        "*   *isb-cgc-bq.TCGA.somatic_mutation_hg38_gdc_current*\n",
        "\n",
        "\n"
      ]
    },
    {
      "cell_type": "code",
      "metadata": {
        "id": "Mavl_7cjZ0XB",
        "colab": {
          "base_uri": "https://localhost:8080/"
        },
        "outputId": "d5f1ad90-eecc-427c-9a02-890bd1369f61"
      },
      "source": [
        "%%R\n",
        "sql <- \"select \n",
        "    mut.Chromosome, \n",
        "    mut.Start_Position, \n",
        "    mut.End_Position, \n",
        "    mut.Reference_Allele, \n",
        "    mut.Tumor_Seq_Allele1, \n",
        "    mut.Tumor_Seq_Allele2, \n",
        "    clin.demo__vital_status \n",
        "from `isb-cgc-bq.TCGA.clinical_gdc_current` clin\n",
        "join `isb-cgc-bq.TCGA.somatic_mutation_hg38_gdc_current` mut \n",
        "    on clin.submitter_id = mut.case_barcode\n",
        "where mut.project_short_name = 'TCGA-BRCA'\"\n",
        "\n",
        "query <- bq_project_query(project, query=sql)\n",
        "df <- bq_table_download(query)\n",
        "head(df)"
      ],
      "execution_count": 58,
      "outputs": [
        {
          "output_type": "stream",
          "name": "stderr",
          "text": [
            "R[write to console]: Complete\n",
            "\n",
            "R[write to console]: Billed: 204.47 MB\n",
            "\n",
            "R[write to console]: Downloading first chunk of data.\n",
            "\n",
            "R[write to console]: First chunk includes all requested rows.\n",
            "\n"
          ]
        },
        {
          "output_type": "stream",
          "name": "stdout",
          "text": [
            "# A tibble: 6 × 7\n",
            "  Chromosome Start_Position End_Position Reference_Allele    Tumor_Seq_Allele1  \n",
            "  <chr>               <int>        <int> <chr>               <chr>              \n",
            "1 chr16            29116153     29116184 AATCTGCTTGCGGTTGGA… AATCTGCTTGCGGTTGGA…\n",
            "2 chr2            129968224    129968231 AATGTAGA            AATGTAGA           \n",
            "3 chr2             88801304     88801307 AAGT                AAGT               \n",
            "4 chr21            18266102     18266135 CAATAGCTTGGAATGGCT… CAATAGCTTGGAATGGCT…\n",
            "5 chr4             73870648     73870657 AATGTGTTTG          AATGTGTTTG         \n",
            "6 chr17            73337298     73337308 CTGAGCAAACT         CTGAGCAAACT        \n",
            "# … with 2 more variables: Tumor_Seq_Allele2 <chr>, demo__vital_status <chr>\n"
          ]
        }
      ]
    }
  ]
}